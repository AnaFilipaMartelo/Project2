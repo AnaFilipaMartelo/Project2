{
 "cells": [
  {
   "cell_type": "code",
   "execution_count": 1,
   "id": "c397b8b7-4f7c-4512-bcf3-45da3f2f53d2",
   "metadata": {},
   "outputs": [],
   "source": [
    "from load_data import load_data\n",
    "from format_data import format_data\n",
    "from remove_nan import remove_nan\n",
    "from find_pairs_signals import find_pairs_signals\n",
    "\n",
    "# List of stock tickers for analysis\n",
    "tickers = [\"SNAP\", \"AAPL\", \"TSLA\", \"META\", \"JPM\", \"AMZN\", \"AMC\", \"DIS\"]\n",
    "\n",
    "# Define the time period for historical data (start date, end date)\n",
    "time_period = (\"2017-01-01\", \"2023-05-31\")\n",
    "\n",
    "# Load historical price data for the specified tickers and time period\n",
    "price_data = load_data(tickers, time_period) \n",
    "\n",
    "# Restructure the raw data into a formatted DataFrame\n",
    "price_data_formatted = format_data(price_data)\n",
    "\n",
    "# Clean data: remove NaN values \n",
    "price_data_cleaned = remove_nan(price_data_formatted)"
   ]
  },
  {
   "cell_type": "code",
   "execution_count": 59,
   "id": "8f145bd0",
   "metadata": {},
   "outputs": [
    {
     "ename": "ValueError",
     "evalue": "The truth value of a Series is ambiguous. Use a.empty, a.bool(), a.item(), a.any() or a.all().",
     "output_type": "error",
     "traceback": [
      "\u001b[1;31m---------------------------------------------------------------------------\u001b[0m",
      "\u001b[1;31mValueError\u001b[0m                                Traceback (most recent call last)",
      "\u001b[1;32m~\\AppData\\Local\\Temp\\ipykernel_29716\\2818822231.py\u001b[0m in \u001b[0;36m<module>\u001b[1;34m\u001b[0m\n\u001b[0;32m      2\u001b[0m \u001b[1;33m\u001b[0m\u001b[0m\n\u001b[0;32m      3\u001b[0m \u001b[0mzscore_threshold\u001b[0m \u001b[1;33m=\u001b[0m \u001b[1;36m1.5\u001b[0m\u001b[1;33m\u001b[0m\u001b[1;33m\u001b[0m\u001b[0m\n\u001b[1;32m----> 4\u001b[1;33m \u001b[0mpairs\u001b[0m\u001b[1;33m,\u001b[0m \u001b[0mpairs_signals\u001b[0m \u001b[1;33m=\u001b[0m \u001b[0mfind_pairs_signals\u001b[0m\u001b[1;33m(\u001b[0m\u001b[0mtickers\u001b[0m\u001b[1;33m,\u001b[0m \u001b[0mprice_data_cleaned\u001b[0m\u001b[1;33m,\u001b[0m \u001b[0mzscore_threshold\u001b[0m\u001b[1;33m)\u001b[0m\u001b[1;33m\u001b[0m\u001b[1;33m\u001b[0m\u001b[0m\n\u001b[0m\u001b[0;32m      5\u001b[0m \u001b[0mprint\u001b[0m\u001b[1;33m(\u001b[0m\u001b[0mpairs\u001b[0m\u001b[1;33m)\u001b[0m\u001b[1;33m\u001b[0m\u001b[1;33m\u001b[0m\u001b[0m\n",
      "\u001b[1;32mc:\\Users\\anafi_0xil91f\\Desktop\\Fintech-Workspace\\Project2\\pairs_trading.py\u001b[0m in \u001b[0;36mfind_pairs_signals\u001b[1;34m(tickers, data, zscore_threshold)\u001b[0m\n\u001b[0;32m     31\u001b[0m         \u001b[0mzscore\u001b[0m \u001b[1;33m=\u001b[0m \u001b[0mcalculate_zscore\u001b[0m\u001b[1;33m(\u001b[0m\u001b[0mspread\u001b[0m\u001b[1;33m)\u001b[0m\u001b[1;33m\u001b[0m\u001b[1;33m\u001b[0m\u001b[0m\n\u001b[0;32m     32\u001b[0m \u001b[1;33m\u001b[0m\u001b[0m\n\u001b[1;32m---> 33\u001b[1;33m         \u001b[1;32mif\u001b[0m \u001b[1;33m(\u001b[0m\u001b[0mabs\u001b[0m\u001b[1;33m(\u001b[0m\u001b[0mzscore\u001b[0m\u001b[1;33m)\u001b[0m \u001b[1;33m>\u001b[0m \u001b[0mzscore_threshold\u001b[0m\u001b[1;33m)\u001b[0m\u001b[1;33m.\u001b[0m\u001b[0many\u001b[0m\u001b[1;33m(\u001b[0m\u001b[1;33m)\u001b[0m\u001b[1;33m:\u001b[0m\u001b[1;33m\u001b[0m\u001b[1;33m\u001b[0m\u001b[0m\n\u001b[0m\u001b[0;32m     34\u001b[0m             \u001b[0mpairs\u001b[0m\u001b[1;33m.\u001b[0m\u001b[0mappend\u001b[0m\u001b[1;33m(\u001b[0m\u001b[1;33m(\u001b[0m\u001b[0masset1\u001b[0m\u001b[1;33m,\u001b[0m \u001b[0masset2\u001b[0m\u001b[1;33m)\u001b[0m\u001b[1;33m)\u001b[0m\u001b[1;33m\u001b[0m\u001b[1;33m\u001b[0m\u001b[0m\n\u001b[0;32m     35\u001b[0m                 \u001b[1;31m# Generate buy and sell signals for the pair based on z-score\u001b[0m\u001b[1;33m\u001b[0m\u001b[1;33m\u001b[0m\u001b[1;33m\u001b[0m\u001b[0m\n",
      "\u001b[1;32mc:\\Users\\anafi_0xil91f\\anaconda3\\envs\\dev\\lib\\site-packages\\pandas\\core\\generic.py\u001b[0m in \u001b[0;36m__nonzero__\u001b[1;34m(self)\u001b[0m\n\u001b[0;32m   1536\u001b[0m     \u001b[1;32mdef\u001b[0m \u001b[0m__nonzero__\u001b[0m\u001b[1;33m(\u001b[0m\u001b[0mself\u001b[0m\u001b[1;33m)\u001b[0m\u001b[1;33m:\u001b[0m\u001b[1;33m\u001b[0m\u001b[1;33m\u001b[0m\u001b[0m\n\u001b[0;32m   1537\u001b[0m         raise ValueError(\n\u001b[1;32m-> 1538\u001b[1;33m             \u001b[1;34mf\"The truth value of a {type(self).__name__} is ambiguous. \"\u001b[0m\u001b[1;33m\u001b[0m\u001b[1;33m\u001b[0m\u001b[0m\n\u001b[0m\u001b[0;32m   1539\u001b[0m             \u001b[1;34m\"Use a.empty, a.bool(), a.item(), a.any() or a.all().\"\u001b[0m\u001b[1;33m\u001b[0m\u001b[1;33m\u001b[0m\u001b[0m\n\u001b[0;32m   1540\u001b[0m         )\n",
      "\u001b[1;31mValueError\u001b[0m: The truth value of a Series is ambiguous. Use a.empty, a.bool(), a.item(), a.any() or a.all()."
     ]
    }
   ],
   "source": [
    "from pairs_trading import find_pairs_signals\n",
    "\n",
    "zscore_threshold = 1.5\n",
    "pairs, pairs_signals = find_pairs_signals(tickers, price_data_cleaned, zscore_threshold)\n",
    "print(pairs)"
   ]
  },
  {
   "cell_type": "code",
   "execution_count": 34,
   "id": "7e4e4893",
   "metadata": {},
   "outputs": [
    {
     "name": "stdout",
     "output_type": "stream",
     "text": [
      "Date\n",
      "2017-03-02 16:00:00   -710.9600\n",
      "2017-03-02 17:00:00   -710.1500\n",
      "2017-03-02 18:00:00   -709.7649\n",
      "2017-03-02 19:00:00   -710.1500\n",
      "2017-03-02 20:00:00   -709.9200\n",
      "                         ...   \n",
      "2023-05-31 19:00:00     56.7800\n",
      "2023-05-31 20:00:00     57.1000\n",
      "2023-05-31 21:00:00     57.0900\n",
      "2023-05-31 22:00:00     57.2000\n",
      "2023-05-31 23:00:00     57.2600\n",
      "Length: 18186, dtype: float64\n"
     ]
    }
   ],
   "source": [
    "\n",
    "data1 = price_data_cleaned[\"AAPL\"]\n",
    "data2 = price_data_cleaned[\"AMZN\"]\n",
    "        # Calculate spread\n",
    "spread = data1 - data2 \n",
    "print(spread)\n"
   ]
  },
  {
   "cell_type": "code",
   "execution_count": 56,
   "id": "408fabf6",
   "metadata": {},
   "outputs": [
    {
     "name": "stdout",
     "output_type": "stream",
     "text": [
      "Date\n",
      "2023-05-30 17:00:00    1.530141\n",
      "2023-05-30 18:00:00    1.529875\n",
      "2023-05-30 19:00:00    1.530013\n",
      "2023-05-30 20:00:00    1.529721\n",
      "2023-05-30 21:00:00    1.529669\n",
      "2023-05-30 22:00:00    1.529738\n",
      "2023-05-30 23:00:00    1.529850\n",
      "2023-05-31 11:00:00    1.529712\n",
      "2023-05-31 12:00:00    1.529755\n",
      "2023-05-31 13:00:00    1.531265\n",
      "2023-05-31 14:00:00    1.532110\n",
      "2023-05-31 15:00:00    1.533188\n",
      "2023-05-31 16:00:00    1.533024\n",
      "2023-05-31 17:00:00    1.532908\n",
      "2023-05-31 18:00:00    1.532419\n",
      "2023-05-31 19:00:00    1.530956\n",
      "2023-05-31 20:00:00    1.531231\n",
      "2023-05-31 21:00:00    1.531222\n",
      "2023-05-31 22:00:00    1.531317\n",
      "2023-05-31 23:00:00    1.531368\n",
      "dtype: float64\n",
      "i'm cute\n"
     ]
    }
   ],
   "source": [
    "from calculate_zscore import calculate_zscore\n",
    "zscore = calculate_zscore(spread)\n",
    "print(zscore.tail(20))\n",
    "if (abs(zscore) > zscore_threshold).any():\n",
    "    print(\"i'm cute\")"
   ]
  },
  {
   "cell_type": "code",
   "execution_count": 44,
   "id": "9a75e0a0",
   "metadata": {},
   "outputs": [
    {
     "name": "stdout",
     "output_type": "stream",
     "text": [
      "False\n"
     ]
    }
   ],
   "source": []
  }
 ],
 "metadata": {
  "kernelspec": {
   "display_name": "Python 3 (ipykernel)",
   "language": "python",
   "name": "python3"
  },
  "language_info": {
   "codemirror_mode": {
    "name": "ipython",
    "version": 3
   },
   "file_extension": ".py",
   "mimetype": "text/x-python",
   "name": "python",
   "nbconvert_exporter": "python",
   "pygments_lexer": "ipython3",
   "version": "3.7.16"
  }
 },
 "nbformat": 4,
 "nbformat_minor": 5
}
