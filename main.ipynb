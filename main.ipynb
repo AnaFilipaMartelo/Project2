{
 "cells": [
  {
   "cell_type": "code",
   "execution_count": 61,
   "id": "c397b8b7-4f7c-4512-bcf3-45da3f2f53d2",
   "metadata": {},
   "outputs": [],
   "source": [
    "from src.load_data import load_data\n",
    "from src.format_data import format_data\n",
    "from src.remove_nan import remove_nan\n",
    "from src.pairs_trading import find_pairs_signals\n",
    "\n",
    "# List of stock tickers for analysis\n",
    "tickers = [\"SNAP\", \"AAPL\", \"TSLA\", \"META\", \"JPM\", \"AMZN\", \"AMC\", \"DIS\"]\n",
    "\n",
    "# Define the time period for historical data (start date, end date)\n",
    "time_period = (\"2017-01-01\", \"2023-05-31\")\n",
    "\n",
    "# Load historical price data for the specified tickers and time period\n",
    "price_data = load_data(tickers, time_period) \n",
    "\n",
    "# Restructure the raw data into a formatted DataFrame\n",
    "price_data_formatted = format_data(price_data)\n",
    "\n",
    "# Clean data: remove NaN values \n",
    "price_data_cleaned = remove_nan(price_data_formatted)"
   ]
  },
  {
   "cell_type": "code",
   "execution_count": 62,
   "id": "8f145bd0",
   "metadata": {},
   "outputs": [
    {
     "name": "stdout",
     "output_type": "stream",
     "text": [
      "[('SNAP', 'AAPL'), ('SNAP', 'TSLA'), ('SNAP', 'META'), ('SNAP', 'JPM'), ('SNAP', 'AMZN'), ('SNAP', 'AMC'), ('SNAP', 'DIS'), ('AAPL', 'TSLA'), ('AAPL', 'META'), ('AAPL', 'JPM'), ('AAPL', 'AMZN'), ('AAPL', 'AMC'), ('AAPL', 'DIS'), ('TSLA', 'META'), ('TSLA', 'JPM'), ('TSLA', 'AMZN'), ('TSLA', 'AMC'), ('TSLA', 'DIS'), ('META', 'JPM'), ('META', 'AMZN'), ('META', 'AMC'), ('META', 'DIS'), ('JPM', 'AMZN'), ('JPM', 'AMC'), ('JPM', 'DIS'), ('AMZN', 'AMC'), ('AMZN', 'DIS'), ('AMC', 'DIS')]\n"
     ]
    }
   ],
   "source": [
    "from src.pairs_trading import find_pairs_signals\n",
    "\n",
    "zscore_threshold = 1.5\n",
    "pairs, pairs_signals = find_pairs_signals(tickers, price_data_cleaned, zscore_threshold)\n",
    "print(pairs)"
   ]
  },
  {
   "cell_type": "code",
   "execution_count": 63,
   "id": "7e4e4893",
   "metadata": {},
   "outputs": [
    {
     "name": "stdout",
     "output_type": "stream",
     "text": [
      "Date\n",
      "2017-03-02 16:00:00   -710.9600\n",
      "2017-03-02 17:00:00   -710.1500\n",
      "2017-03-02 18:00:00   -709.7649\n",
      "2017-03-02 19:00:00   -710.1500\n",
      "2017-03-02 20:00:00   -709.9200\n",
      "                         ...   \n",
      "2023-05-31 19:00:00     56.7800\n",
      "2023-05-31 20:00:00     57.1000\n",
      "2023-05-31 21:00:00     57.0900\n",
      "2023-05-31 22:00:00     57.2000\n",
      "2023-05-31 23:00:00     57.2600\n",
      "Length: 18186, dtype: float64\n"
     ]
    }
   ],
   "source": [
    "\n",
    "data1 = price_data_cleaned[\"AAPL\"]\n",
    "data2 = price_data_cleaned[\"AMZN\"]\n",
    "        # Calculate spread\n",
    "spread = data1 - data2 \n",
    "print(spread)\n"
   ]
  },
  {
   "cell_type": "code",
   "execution_count": 64,
   "id": "408fabf6",
   "metadata": {},
   "outputs": [
    {
     "name": "stdout",
     "output_type": "stream",
     "text": [
      "Date\n",
      "2023-05-30 17:00:00    1.530141\n",
      "2023-05-30 18:00:00    1.529875\n",
      "2023-05-30 19:00:00    1.530013\n",
      "2023-05-30 20:00:00    1.529721\n",
      "2023-05-30 21:00:00    1.529669\n",
      "2023-05-30 22:00:00    1.529738\n",
      "2023-05-30 23:00:00    1.529850\n",
      "2023-05-31 11:00:00    1.529712\n",
      "2023-05-31 12:00:00    1.529755\n",
      "2023-05-31 13:00:00    1.531265\n",
      "2023-05-31 14:00:00    1.532110\n",
      "2023-05-31 15:00:00    1.533188\n",
      "2023-05-31 16:00:00    1.533024\n",
      "2023-05-31 17:00:00    1.532908\n",
      "2023-05-31 18:00:00    1.532419\n",
      "2023-05-31 19:00:00    1.530956\n",
      "2023-05-31 20:00:00    1.531231\n",
      "2023-05-31 21:00:00    1.531222\n",
      "2023-05-31 22:00:00    1.531317\n",
      "2023-05-31 23:00:00    1.531368\n",
      "dtype: float64\n",
      "i'm cute\n"
     ]
    }
   ],
   "source": [
    "from src.calculate_zscore import calculate_zscore\n",
    "zscore = calculate_zscore(spread)\n",
    "print(zscore.tail(20))\n",
    "if (abs(zscore) > zscore_threshold).any():\n",
    "    print(\"i'm cute\")"
   ]
  },
  {
   "cell_type": "code",
   "execution_count": 44,
   "id": "9a75e0a0",
   "metadata": {},
   "outputs": [
    {
     "name": "stdout",
     "output_type": "stream",
     "text": [
      "False\n"
     ]
    }
   ],
   "source": []
  }
 ],
 "metadata": {
  "kernelspec": {
   "display_name": "Python 3 (ipykernel)",
   "language": "python",
   "name": "python3"
  },
  "language_info": {
   "codemirror_mode": {
    "name": "ipython",
    "version": 3
   },
   "file_extension": ".py",
   "mimetype": "text/x-python",
   "name": "python",
   "nbconvert_exporter": "python",
   "pygments_lexer": "ipython3",
   "version": "3.7.16"
  }
 },
 "nbformat": 4,
 "nbformat_minor": 5
}
